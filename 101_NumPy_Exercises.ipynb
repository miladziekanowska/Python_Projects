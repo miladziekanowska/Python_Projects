{
 "cells": [
  {
   "cell_type": "markdown",
   "id": "1c4efc44",
   "metadata": {},
   "source": [
    "1. Import numpy as np and see the version"
   ]
  },
  {
   "cell_type": "code",
   "execution_count": 97,
   "id": "f9749045",
   "metadata": {},
   "outputs": [
    {
     "data": {
      "text/plain": [
       "'1.24.0'"
      ]
     },
     "execution_count": 97,
     "metadata": {},
     "output_type": "execute_result"
    }
   ],
   "source": [
    "import numpy as np\n",
    "import sys\n",
    "np.version.version"
   ]
  },
  {
   "cell_type": "markdown",
   "id": "33a530ac",
   "metadata": {},
   "source": [
    "2. How to create a 1D array?"
   ]
  },
  {
   "cell_type": "code",
   "execution_count": 8,
   "id": "42a770d6",
   "metadata": {},
   "outputs": [
    {
     "data": {
      "text/plain": [
       "array([0, 1, 2, 3, 4, 5, 6, 7, 8, 9])"
      ]
     },
     "execution_count": 8,
     "metadata": {},
     "output_type": "execute_result"
    }
   ],
   "source": [
    "# Q. Create a 1D array of numbers from 0 to 9\n",
    "A = np.array([0, 1, 2, 3, 4, 5, 6, 7, 8, 9])\n",
    "A"
   ]
  },
  {
   "cell_type": "markdown",
   "id": "9db43b47",
   "metadata": {},
   "source": [
    "3. How to create a boolean array?"
   ]
  },
  {
   "cell_type": "code",
   "execution_count": 9,
   "id": "265127fc",
   "metadata": {},
   "outputs": [
    {
     "data": {
      "text/plain": [
       "array([[ True,  True,  True],\n",
       "       [ True,  True,  True],\n",
       "       [ True,  True,  True]])"
      ]
     },
     "execution_count": 9,
     "metadata": {},
     "output_type": "execute_result"
    }
   ],
   "source": [
    "# Q. Create a 3×3 numpy array of all True’s\n",
    "B = np.ones([3, 3], dtype=bool)\n",
    "B"
   ]
  },
  {
   "cell_type": "markdown",
   "id": "6ba9a137",
   "metadata": {},
   "source": [
    "4. How to extract items that satisfy a given condition from 1D array?"
   ]
  },
  {
   "cell_type": "code",
   "execution_count": 11,
   "id": "7651e7c9",
   "metadata": {},
   "outputs": [
    {
     "data": {
      "text/plain": [
       "array([1, 3, 5, 7, 9])"
      ]
     },
     "execution_count": 11,
     "metadata": {},
     "output_type": "execute_result"
    }
   ],
   "source": [
    "# Q. Extract all odd numbers from arr\n",
    "arr = np.array([0, 1, 2, 3, 4, 5, 6, 7, 8, 9])\n",
    "arr[arr%2 == 1]  "
   ]
  },
  {
   "cell_type": "markdown",
   "id": "c1d67b0d",
   "metadata": {},
   "source": [
    "5. How to replace items that satisfy a condition with another value in numpy array?"
   ]
  },
  {
   "cell_type": "code",
   "execution_count": 13,
   "id": "7c4a5c8d",
   "metadata": {},
   "outputs": [
    {
     "data": {
      "text/plain": [
       "array([ 0, -1,  2, -1,  4, -1,  6, -1,  8, -1])"
      ]
     },
     "execution_count": 13,
     "metadata": {},
     "output_type": "execute_result"
    }
   ],
   "source": [
    "# Q. Replace all odd numbers in arr with -1\n",
    "arr = np.array([0, 1, 2, 3, 4, 5, 6, 7, 8, 9])\n",
    "arr[arr%2 == 1] = -1\n",
    "arr"
   ]
  },
  {
   "cell_type": "markdown",
   "id": "3ff25cc1",
   "metadata": {},
   "source": [
    "6. How to replace items that satisfy a condition without affecting the original array?"
   ]
  },
  {
   "cell_type": "code",
   "execution_count": 17,
   "id": "dfc323a1",
   "metadata": {},
   "outputs": [
    {
     "name": "stdout",
     "output_type": "stream",
     "text": [
      "[ 0 -1  2 -1  4 -1  6 -1  8 -1]\n"
     ]
    },
    {
     "data": {
      "text/plain": [
       "array([0, 1, 2, 3, 4, 5, 6, 7, 8, 9])"
      ]
     },
     "execution_count": 17,
     "metadata": {},
     "output_type": "execute_result"
    }
   ],
   "source": [
    "# Q. Replace all odd numbers in arr with -1 without changing arr\n",
    "arr = np.array([0, 1, 2, 3, 4, 5, 6, 7, 8, 9])\n",
    "out = np.where(arr % 2 == 1, -1, arr)\n",
    "print(out)\n",
    "arr"
   ]
  },
  {
   "cell_type": "markdown",
   "id": "ef61e185",
   "metadata": {},
   "source": [
    "7. How to reshape an array?"
   ]
  },
  {
   "cell_type": "code",
   "execution_count": 29,
   "id": "dfa87275",
   "metadata": {},
   "outputs": [
    {
     "data": {
      "text/plain": [
       "array([[0, 1, 2, 3, 4],\n",
       "       [5, 6, 7, 8, 9]])"
      ]
     },
     "execution_count": 29,
     "metadata": {},
     "output_type": "execute_result"
    }
   ],
   "source": [
    "# Q. Convert a 1D array to a 2D array with 2 rows\n",
    "arr = np.arange(10)\n",
    "arr.reshape(2, -1) # -1 automates the number of columns"
   ]
  },
  {
   "cell_type": "markdown",
   "id": "e3010bdb",
   "metadata": {},
   "source": [
    "8. How to stack two arrays vertically?"
   ]
  },
  {
   "cell_type": "code",
   "execution_count": 31,
   "id": "dc94b6b1",
   "metadata": {},
   "outputs": [
    {
     "data": {
      "text/plain": [
       "array([[0, 1, 2, 3, 4],\n",
       "       [5, 6, 7, 8, 9],\n",
       "       [1, 1, 1, 1, 1],\n",
       "       [1, 1, 1, 1, 1]])"
      ]
     },
     "execution_count": 31,
     "metadata": {},
     "output_type": "execute_result"
    }
   ],
   "source": [
    "# Q. Stack arrays a and b vertically\n",
    "a = np.arange(10).reshape(2,-1)\n",
    "b = np.repeat(1, 10).reshape(2,-1)\n",
    "np.concatenate([a, b], axis=0)"
   ]
  },
  {
   "cell_type": "markdown",
   "id": "02bd14c9",
   "metadata": {},
   "source": [
    "9. How to stack two arrays horizontally?"
   ]
  },
  {
   "cell_type": "code",
   "execution_count": 33,
   "id": "6f28124b",
   "metadata": {},
   "outputs": [
    {
     "data": {
      "text/plain": [
       "array([[0, 1, 2, 3, 4, 1, 1, 1, 1, 1],\n",
       "       [5, 6, 7, 8, 9, 1, 1, 1, 1, 1]])"
      ]
     },
     "execution_count": 33,
     "metadata": {},
     "output_type": "execute_result"
    }
   ],
   "source": [
    "# Q. Stack the arrays a and b horizontally.\n",
    "a = np.arange(10).reshape(2,-1)\n",
    "b = np.repeat(1, 10).reshape(2,-1)\n",
    "np.concatenate([a, b], axis=1)"
   ]
  },
  {
   "cell_type": "markdown",
   "id": "8bf6f3f9",
   "metadata": {},
   "source": [
    "10. How to generate custom sequences in numpy without hardcoding?"
   ]
  },
  {
   "cell_type": "code",
   "execution_count": 35,
   "id": "cd0acf90",
   "metadata": {},
   "outputs": [
    {
     "data": {
      "text/plain": [
       "array([1, 1, 1, 2, 2, 2, 3, 3, 3, 1, 2, 3, 1, 2, 3, 1, 2, 3])"
      ]
     },
     "execution_count": 35,
     "metadata": {},
     "output_type": "execute_result"
    }
   ],
   "source": [
    "a = np.array([1,2,3])\n",
    "a = np.r_[np.repeat(a, 3), np.tile(a, 3)]\n",
    "a"
   ]
  },
  {
   "cell_type": "markdown",
   "id": "af863f7c",
   "metadata": {},
   "source": [
    "11. How to get the common items between two python numpy arrays?"
   ]
  },
  {
   "cell_type": "code",
   "execution_count": 37,
   "id": "831b9f2e",
   "metadata": {},
   "outputs": [
    {
     "data": {
      "text/plain": [
       "array([2, 4])"
      ]
     },
     "execution_count": 37,
     "metadata": {},
     "output_type": "execute_result"
    }
   ],
   "source": [
    "# Q. Get the common items between a and b\n",
    "a = np.array([1,2,3,2,3,4,3,4,5,6])\n",
    "b = np.array([7,2,10,2,7,4,9,4,9,8])\n",
    "np.intersect1d(a, b)"
   ]
  },
  {
   "cell_type": "markdown",
   "id": "ddeb087b",
   "metadata": {},
   "source": [
    "12. How to remove from one array those items that exist in another?"
   ]
  },
  {
   "cell_type": "code",
   "execution_count": 39,
   "id": "e5d0ade5",
   "metadata": {},
   "outputs": [
    {
     "data": {
      "text/plain": [
       "array([1, 2, 3, 4])"
      ]
     },
     "execution_count": 39,
     "metadata": {},
     "output_type": "execute_result"
    }
   ],
   "source": [
    "# Q. From array a remove all items present in array b\n",
    "a = np.array([1,2,3,4,5])\n",
    "b = np.array([5,6,7,8,9])\n",
    "np.setdiff1d(a,b)"
   ]
  },
  {
   "cell_type": "markdown",
   "id": "7d17bc80",
   "metadata": {},
   "source": [
    "13. How to get the positions where elements of two arrays match?"
   ]
  },
  {
   "cell_type": "code",
   "execution_count": 41,
   "id": "91906fde",
   "metadata": {},
   "outputs": [
    {
     "data": {
      "text/plain": [
       "(array([1, 3, 5, 7]),)"
      ]
     },
     "execution_count": 41,
     "metadata": {},
     "output_type": "execute_result"
    }
   ],
   "source": [
    "# Q. Get the positions where elements of a and b match\n",
    "a = np.array([1,2,3,2,3,4,3,4,5,6])\n",
    "b = np.array([7,2,10,2,7,4,9,4,9,8])\n",
    "arr = np.where(a==b)\n",
    "arr"
   ]
  },
  {
   "cell_type": "markdown",
   "id": "441cd2ad",
   "metadata": {},
   "source": [
    "14. How to extract all numbers between a given range from a numpy array?"
   ]
  },
  {
   "cell_type": "code",
   "execution_count": 44,
   "id": "72585704",
   "metadata": {},
   "outputs": [
    {
     "data": {
      "text/plain": [
       "array([ 6,  9, 10])"
      ]
     },
     "execution_count": 44,
     "metadata": {},
     "output_type": "execute_result"
    }
   ],
   "source": [
    "# Q. Get all items between 5 and 10 from a.\n",
    "a = np.array([2, 6, 1, 9, 10, 3, 27])\n",
    "a[(a >= 5) & (a <= 10)]"
   ]
  },
  {
   "cell_type": "markdown",
   "id": "cc1b63ec",
   "metadata": {},
   "source": [
    "15. How to make a python function that handles scalars to work on numpy arrays?"
   ]
  },
  {
   "cell_type": "code",
   "execution_count": 47,
   "id": "1d75b671",
   "metadata": {},
   "outputs": [
    {
     "data": {
      "text/plain": [
       "array([6., 7., 9., 8., 9., 7., 5.])"
      ]
     },
     "execution_count": 47,
     "metadata": {},
     "output_type": "execute_result"
    }
   ],
   "source": [
    "# Q. Convert the function maxx that works on two scalars, to work on two arrays.\n",
    "def maxx(x, y):\n",
    "    if x >= y:\n",
    "        return x\n",
    "    else:\n",
    "        return y\n",
    "\n",
    "pair_max = np.vectorize(maxx, otypes=[float])\n",
    "\n",
    "a = np.array([5, 7, 9, 8, 6, 4, 5])\n",
    "b = np.array([6, 3, 4, 8, 9, 7, 1])\n",
    "\n",
    "pair_max(a, b)"
   ]
  },
  {
   "cell_type": "markdown",
   "id": "b2fd5b81",
   "metadata": {},
   "source": [
    "16. How to swap two columns in a 2d numpy array?"
   ]
  },
  {
   "cell_type": "code",
   "execution_count": 49,
   "id": "eef36fb3",
   "metadata": {},
   "outputs": [
    {
     "data": {
      "text/plain": [
       "array([[1, 0, 2],\n",
       "       [4, 3, 5],\n",
       "       [7, 6, 8]])"
      ]
     },
     "execution_count": 49,
     "metadata": {},
     "output_type": "execute_result"
    }
   ],
   "source": [
    "# Q. Swap columns 1 and 2 in the array arr.\n",
    "arr = np.arange(9).reshape(3,3)\n",
    "arr[:, [1, 0]] = arr[:, [0, 1]]\n",
    "arr"
   ]
  },
  {
   "cell_type": "markdown",
   "id": "b5bb9153",
   "metadata": {},
   "source": [
    "17. How to swap two rows in a 2d numpy array?"
   ]
  },
  {
   "cell_type": "code",
   "execution_count": 51,
   "id": "7772ab51",
   "metadata": {},
   "outputs": [
    {
     "data": {
      "text/plain": [
       "array([[3, 4, 5],\n",
       "       [0, 1, 2],\n",
       "       [6, 7, 8]])"
      ]
     },
     "execution_count": 51,
     "metadata": {},
     "output_type": "execute_result"
    }
   ],
   "source": [
    "# Q. Swap rows 1 and 2 in the array arr:\n",
    "arr = np.arange(9).reshape(3,3)\n",
    "arr[[1, 0],:] = arr[[0, 1],:]\n",
    "arr"
   ]
  },
  {
   "cell_type": "markdown",
   "id": "afb0710f",
   "metadata": {},
   "source": [
    "18. How to reverse the rows of a 2D array?"
   ]
  },
  {
   "cell_type": "code",
   "execution_count": 62,
   "id": "94ee1e3d",
   "metadata": {},
   "outputs": [
    {
     "data": {
      "text/plain": [
       "array([[6, 7, 8],\n",
       "       [3, 4, 5],\n",
       "       [0, 1, 2]])"
      ]
     },
     "execution_count": 62,
     "metadata": {},
     "output_type": "execute_result"
    }
   ],
   "source": [
    "# Q. Reverse the rows of a 2D array arr.\n",
    "arr = np.arange(9).reshape(3,3)\n",
    "# or  arr[::-1]\n",
    "np.flip(arr, axis=0)"
   ]
  },
  {
   "cell_type": "markdown",
   "id": "4b044812",
   "metadata": {},
   "source": [
    "19. How to reverse the columns of a 2D array?"
   ]
  },
  {
   "cell_type": "code",
   "execution_count": 63,
   "id": "b69baa70",
   "metadata": {},
   "outputs": [
    {
     "data": {
      "text/plain": [
       "array([[2, 1, 0],\n",
       "       [5, 4, 3],\n",
       "       [8, 7, 6]])"
      ]
     },
     "execution_count": 63,
     "metadata": {},
     "output_type": "execute_result"
    }
   ],
   "source": [
    "# Q. Reverse the columns of a 2D array arr.\n",
    "arr = np.arange(9).reshape(3,3)\n",
    "np.flip(arr, axis=1)\n",
    "# or   arr[:, ::-1]"
   ]
  },
  {
   "cell_type": "markdown",
   "id": "ca982e1b",
   "metadata": {},
   "source": [
    "20. How to create a 2D array containing random floats between 5 and 10?"
   ]
  },
  {
   "cell_type": "code",
   "execution_count": 70,
   "id": "822f6fe5",
   "metadata": {},
   "outputs": [
    {
     "data": {
      "text/plain": [
       "array([[ 5.78437813,  7.59600176,  7.53419343],\n",
       "       [ 8.79587494, 10.07767143,  9.57496146],\n",
       "       [ 6.70493654,  5.8654127 ,  5.8330768 ],\n",
       "       [ 7.11953946,  5.61972672,  5.19471403],\n",
       "       [ 8.82166954, 10.28957365,  9.95464673]])"
      ]
     },
     "execution_count": 70,
     "metadata": {},
     "output_type": "execute_result"
    }
   ],
   "source": [
    "# Q. Create a 2D array of shape 5x3 to contain random decimal numbers between 5 and 10.\n",
    "arr = np.random.uniform(5,11, size=(5,3))\n",
    "arr"
   ]
  },
  {
   "cell_type": "markdown",
   "id": "0288d296",
   "metadata": {},
   "source": [
    "21. How to print only 3 decimal places in python numpy array?"
   ]
  },
  {
   "cell_type": "code",
   "execution_count": 71,
   "id": "8e89fb87",
   "metadata": {},
   "outputs": [
    {
     "data": {
      "text/plain": [
       "array([[0.801, 0.507, 0.245],\n",
       "       [0.693, 0.744, 0.402],\n",
       "       [0.949, 0.968, 0.545],\n",
       "       [0.208, 0.914, 0.51 ],\n",
       "       [0.858, 0.739, 0.992]])"
      ]
     },
     "execution_count": 71,
     "metadata": {},
     "output_type": "execute_result"
    }
   ],
   "source": [
    "# Q. Print or show only 3 decimal places of the numpy array rand_arr.\n",
    "rand_arr = np.random.random((5,3))\n",
    "np.round(rand_arr, decimals=3)"
   ]
  },
  {
   "cell_type": "markdown",
   "id": "6663636f",
   "metadata": {},
   "source": [
    "22. How to pretty print a numpy array by suppressing the scientific notation (like 1e10)?"
   ]
  },
  {
   "cell_type": "code",
   "execution_count": 83,
   "id": "1e559637",
   "metadata": {},
   "outputs": [
    {
     "data": {
      "text/plain": [
       "array([[0.000543, 0.000278, 0.000425],\n",
       "       [0.000845, 0.000005, 0.000122],\n",
       "       [0.000671, 0.000826, 0.000137]])"
      ]
     },
     "execution_count": 83,
     "metadata": {},
     "output_type": "execute_result"
    }
   ],
   "source": [
    "# Q. Pretty print rand_arr by suppressing the scientific notation (like 1e10)\n",
    "np.random.seed(100)\n",
    "rand_arr = np.random.random([3,3])/1e3\n",
    "np.set_printoptions(suppress=True, precision=6)\n",
    "rand_arr"
   ]
  },
  {
   "cell_type": "markdown",
   "id": "6013a042",
   "metadata": {},
   "source": [
    "23. How to limit the number of items printed in output of numpy array?"
   ]
  },
  {
   "cell_type": "code",
   "execution_count": 89,
   "id": "75b237b8",
   "metadata": {},
   "outputs": [
    {
     "data": {
      "text/plain": [
       "array([ 0,  1,  2, ..., 12, 13, 14])"
      ]
     },
     "execution_count": 89,
     "metadata": {},
     "output_type": "execute_result"
    }
   ],
   "source": [
    "# Q. Limit the number of items printed in python numpy array a to a maximum of 6 elements.\n",
    "a = np.arange(15)\n",
    "np.set_printoptions(threshold=6)\n",
    "a"
   ]
  },
  {
   "cell_type": "markdown",
   "id": "7842ee88",
   "metadata": {},
   "source": [
    "24. How to print the full numpy array without truncating"
   ]
  },
  {
   "cell_type": "code",
   "execution_count": 98,
   "id": "cea4f972",
   "metadata": {},
   "outputs": [
    {
     "data": {
      "text/plain": [
       "array([ 0,  1,  2,  3,  4,  5,  6,  7,  8,  9, 10, 11, 12, 13, 14])"
      ]
     },
     "execution_count": 98,
     "metadata": {},
     "output_type": "execute_result"
    }
   ],
   "source": [
    "# Q. Print the full numpy array a without truncating.\n",
    "# Input\n",
    "np.set_printoptions(threshold=6)\n",
    "a = np.arange(15)\n",
    "\n",
    "# Solution\n",
    "np.set_printoptions(threshold=sys.maxsize)\n",
    "a"
   ]
  },
  {
   "cell_type": "markdown",
   "id": "c693e643",
   "metadata": {},
   "source": [
    "25. How to import a dataset with numbers and texts keeping the text intact in python numpy?"
   ]
  },
  {
   "cell_type": "code",
   "execution_count": 102,
   "id": "73f4c20e",
   "metadata": {},
   "outputs": [
    {
     "data": {
      "text/plain": [
       "array([[b'5.1', b'3.5', b'1.4', b'0.2', b'Iris-setosa'],\n",
       "       [b'4.9', b'3.0', b'1.4', b'0.2', b'Iris-setosa'],\n",
       "       [b'4.7', b'3.2', b'1.3', b'0.2', b'Iris-setosa']], dtype=object)"
      ]
     },
     "execution_count": 102,
     "metadata": {},
     "output_type": "execute_result"
    }
   ],
   "source": [
    "#Q. Import the iris dataset keeping the text intact.\n",
    "url = 'https://archive.ics.uci.edu/ml/machine-learning-databases/iris/iris.data'\n",
    "iris = np.genfromtxt(url, delimiter=',', dtype='object')\n",
    "names = ('sepallength', 'sepalwidth', 'petallength', 'petalwidth', 'species')\n",
    "iris[:3]"
   ]
  },
  {
   "cell_type": "markdown",
   "id": "e65462df",
   "metadata": {},
   "source": [
    "26. How to extract a particular column from 1D array of tuples?"
   ]
  },
  {
   "cell_type": "code",
   "execution_count": 105,
   "id": "7a351718",
   "metadata": {},
   "outputs": [
    {
     "data": {
      "text/plain": [
       "array([[b'5.1', b'3.5', b'1.4', b'0.2', b'Iris-setosa'],\n",
       "       [b'4.9', b'3.0', b'1.4', b'0.2', b'Iris-setosa'],\n",
       "       [b'4.7', b'3.2', b'1.3', b'0.2', b'Iris-setosa'],\n",
       "       [b'4.6', b'3.1', b'1.5', b'0.2', b'Iris-setosa'],\n",
       "       [b'5.0', b'3.6', b'1.4', b'0.2', b'Iris-setosa']], dtype=object)"
      ]
     },
     "execution_count": 105,
     "metadata": {},
     "output_type": "execute_result"
    }
   ],
   "source": [
    "# Q. Extract the text column species from the 1D iris imported in previous question.\n",
    "iris[:5]"
   ]
  },
  {
   "cell_type": "markdown",
   "id": "2c6f6cd8",
   "metadata": {},
   "source": [
    "27. How to convert a 1d array of tuples to a 2d numpy array?"
   ]
  },
  {
   "cell_type": "code",
   "execution_count": null,
   "id": "8850c62b",
   "metadata": {},
   "outputs": [],
   "source": [
    "https://www.machinelearningplus.com/python/101-numpy-exercises-python/"
   ]
  }
 ],
 "metadata": {
  "kernelspec": {
   "display_name": "Python 3 (ipykernel)",
   "language": "python",
   "name": "python3"
  },
  "language_info": {
   "codemirror_mode": {
    "name": "ipython",
    "version": 3
   },
   "file_extension": ".py",
   "mimetype": "text/x-python",
   "name": "python",
   "nbconvert_exporter": "python",
   "pygments_lexer": "ipython3",
   "version": "3.9.12"
  },
  "varInspector": {
   "cols": {
    "lenName": 16,
    "lenType": 16,
    "lenVar": 40
   },
   "kernels_config": {
    "python": {
     "delete_cmd_postfix": "",
     "delete_cmd_prefix": "del ",
     "library": "var_list.py",
     "varRefreshCmd": "print(var_dic_list())"
    },
    "r": {
     "delete_cmd_postfix": ") ",
     "delete_cmd_prefix": "rm(",
     "library": "var_list.r",
     "varRefreshCmd": "cat(var_dic_list()) "
    }
   },
   "types_to_exclude": [
    "module",
    "function",
    "builtin_function_or_method",
    "instance",
    "_Feature"
   ],
   "window_display": false
  }
 },
 "nbformat": 4,
 "nbformat_minor": 5
}
